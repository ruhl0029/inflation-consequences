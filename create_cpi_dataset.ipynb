{
 "cells": [
  {
   "cell_type": "markdown",
   "metadata": {},
   "source": [
    "# Create CPI by category dataset\n",
    "\n",
    "This script retrieves the CPI data by top-level category and region. It processes the data into a csv file to be used in other analysis. \n",
    "\n",
    "Kim J. Ruhl // July 13, 2022 // ruhl2@wisc.edu"
   ]
  },
  {
   "cell_type": "code",
   "execution_count": 1,
   "metadata": {},
   "outputs": [],
   "source": [
    "import requests\n",
    "import json\n",
    "import pandas as pd\n",
    "\n",
    "# https://www.bls.gov/regions/midwest/data/xg-tables/ro5xg01.htm\n",
    "\n",
    "var = {'CUUR0200SA0':'midwest', 'CUURS200SA0':'midwestA', 'CUURN200SA0':'midwestBC', 'CUUR0360SA0':'midwestENC',\n",
    "      'CUUR0200SAA':'apparel', 'CUUR0200SAE':'education', 'CUUR0200SAF':'foodbev', 'CUUR0200SAH':'housing',\n",
    "      'CUUR0200SAM':'medical', 'CUUR0200SAR':'recreation', 'CUUR0200SAT':'transportation'}\n",
    "\n",
    "headers = {'Content-type': 'application/json'}\n",
    "data = json.dumps({\"seriesid\": list(var),\"startyear\":\"2019\", \"endyear\":\"2022\"})\n",
    "p = requests.post('https://api.bls.gov/publicAPI/v1/timeseries/data/', data=data, headers=headers)\n",
    "json_data = json.loads(p.text)"
   ]
  },
  {
   "cell_type": "code",
   "execution_count": 2,
   "metadata": {},
   "outputs": [],
   "source": [
    "def extract_df(s):\n",
    "    temp = pd.DataFrame(s['data'])[['year', 'period', 'value']]\n",
    "    temp = temp.rename(columns={'value':var[s['seriesID']]})\n",
    "    temp['date'] = pd.to_datetime(temp['year'] + '-' + temp['period'].str.slice(1,))\n",
    "    temp = temp.drop(['year', 'period'], axis=1).set_index('date')\n",
    "    return temp"
   ]
  },
  {
   "cell_type": "code",
   "execution_count": 3,
   "metadata": {},
   "outputs": [
    {
     "data": {
      "text/html": [
       "<div>\n",
       "<style scoped>\n",
       "    .dataframe tbody tr th:only-of-type {\n",
       "        vertical-align: middle;\n",
       "    }\n",
       "\n",
       "    .dataframe tbody tr th {\n",
       "        vertical-align: top;\n",
       "    }\n",
       "\n",
       "    .dataframe thead th {\n",
       "        text-align: right;\n",
       "    }\n",
       "</style>\n",
       "<table border=\"1\" class=\"dataframe\">\n",
       "  <thead>\n",
       "    <tr style=\"text-align: right;\">\n",
       "      <th></th>\n",
       "      <th>midwest</th>\n",
       "      <th>midwestA</th>\n",
       "      <th>midwestBC</th>\n",
       "      <th>midwestENC</th>\n",
       "      <th>apparel</th>\n",
       "      <th>education</th>\n",
       "      <th>foodbev</th>\n",
       "      <th>housing</th>\n",
       "      <th>medical</th>\n",
       "      <th>recreation</th>\n",
       "      <th>transportation</th>\n",
       "    </tr>\n",
       "    <tr>\n",
       "      <th>date</th>\n",
       "      <th></th>\n",
       "      <th></th>\n",
       "      <th></th>\n",
       "      <th></th>\n",
       "      <th></th>\n",
       "      <th></th>\n",
       "      <th></th>\n",
       "      <th></th>\n",
       "      <th></th>\n",
       "      <th></th>\n",
       "      <th></th>\n",
       "    </tr>\n",
       "  </thead>\n",
       "  <tbody>\n",
       "    <tr>\n",
       "      <th>2019-05-01</th>\n",
       "      <td>238.219</td>\n",
       "      <td>238.926</td>\n",
       "      <td>152.284</td>\n",
       "      <td>102.455</td>\n",
       "      <td>114.920</td>\n",
       "      <td>137.108</td>\n",
       "      <td>247.517</td>\n",
       "      <td>232.790</td>\n",
       "      <td>492.063</td>\n",
       "      <td>121.203</td>\n",
       "      <td>207.945</td>\n",
       "    </tr>\n",
       "    <tr>\n",
       "      <th>2019-04-01</th>\n",
       "      <td>237.510</td>\n",
       "      <td>237.576</td>\n",
       "      <td>152.093</td>\n",
       "      <td>102.541</td>\n",
       "      <td>115.838</td>\n",
       "      <td>137.404</td>\n",
       "      <td>246.391</td>\n",
       "      <td>231.999</td>\n",
       "      <td>487.594</td>\n",
       "      <td>120.985</td>\n",
       "      <td>207.665</td>\n",
       "    </tr>\n",
       "    <tr>\n",
       "      <th>2019-03-01</th>\n",
       "      <td>236.793</td>\n",
       "      <td>237.414</td>\n",
       "      <td>151.405</td>\n",
       "      <td>102.336</td>\n",
       "      <td>117.625</td>\n",
       "      <td>137.446</td>\n",
       "      <td>246.618</td>\n",
       "      <td>231.701</td>\n",
       "      <td>491.086</td>\n",
       "      <td>121.194</td>\n",
       "      <td>203.171</td>\n",
       "    </tr>\n",
       "    <tr>\n",
       "      <th>2019-02-01</th>\n",
       "      <td>235.444</td>\n",
       "      <td>236.109</td>\n",
       "      <td>150.523</td>\n",
       "      <td>101.712</td>\n",
       "      <td>118.579</td>\n",
       "      <td>137.823</td>\n",
       "      <td>247.108</td>\n",
       "      <td>230.869</td>\n",
       "      <td>491.532</td>\n",
       "      <td>121.032</td>\n",
       "      <td>197.175</td>\n",
       "    </tr>\n",
       "    <tr>\n",
       "      <th>2019-01-01</th>\n",
       "      <td>233.837</td>\n",
       "      <td>234.773</td>\n",
       "      <td>149.383</td>\n",
       "      <td>101.116</td>\n",
       "      <td>114.788</td>\n",
       "      <td>137.834</td>\n",
       "      <td>245.739</td>\n",
       "      <td>230.194</td>\n",
       "      <td>492.369</td>\n",
       "      <td>121.229</td>\n",
       "      <td>192.640</td>\n",
       "    </tr>\n",
       "  </tbody>\n",
       "</table>\n",
       "</div>"
      ],
      "text/plain": [
       "            midwest midwestA midwestBC midwestENC  apparel education  foodbev  \\\n",
       "date                                                                            \n",
       "2019-05-01  238.219  238.926   152.284    102.455  114.920   137.108  247.517   \n",
       "2019-04-01  237.510  237.576   152.093    102.541  115.838   137.404  246.391   \n",
       "2019-03-01  236.793  237.414   151.405    102.336  117.625   137.446  246.618   \n",
       "2019-02-01  235.444  236.109   150.523    101.712  118.579   137.823  247.108   \n",
       "2019-01-01  233.837  234.773   149.383    101.116  114.788   137.834  245.739   \n",
       "\n",
       "            housing  medical recreation transportation  \n",
       "date                                                    \n",
       "2019-05-01  232.790  492.063    121.203        207.945  \n",
       "2019-04-01  231.999  487.594    120.985        207.665  \n",
       "2019-03-01  231.701  491.086    121.194        203.171  \n",
       "2019-02-01  230.869  491.532    121.032        197.175  \n",
       "2019-01-01  230.194  492.369    121.229        192.640  "
      ]
     },
     "execution_count": 3,
     "metadata": {},
     "output_type": "execute_result"
    }
   ],
   "source": [
    "i = iter(json_data['Results']['series'])\n",
    "data = extract_df( next(i) )\n",
    "\n",
    "for s in i:\n",
    "    data = data.join( extract_df(s))\n",
    "\n",
    "data.tail()"
   ]
  },
  {
   "cell_type": "code",
   "execution_count": 4,
   "metadata": {},
   "outputs": [],
   "source": [
    "data.to_csv('cpis.csv')"
   ]
  }
 ],
 "metadata": {
  "hide_input": false,
  "kernelspec": {
   "display_name": "Python 3",
   "language": "python",
   "name": "python3"
  },
  "language_info": {
   "codemirror_mode": {
    "name": "ipython",
    "version": 3
   },
   "file_extension": ".py",
   "mimetype": "text/x-python",
   "name": "python",
   "nbconvert_exporter": "python",
   "pygments_lexer": "ipython3",
   "version": "3.8.8"
  },
  "varInspector": {
   "cols": {
    "lenName": 16,
    "lenType": 16,
    "lenVar": 40
   },
   "kernels_config": {
    "python": {
     "delete_cmd_postfix": "",
     "delete_cmd_prefix": "del ",
     "library": "var_list.py",
     "varRefreshCmd": "print(var_dic_list())"
    },
    "r": {
     "delete_cmd_postfix": ") ",
     "delete_cmd_prefix": "rm(",
     "library": "var_list.r",
     "varRefreshCmd": "cat(var_dic_list()) "
    }
   },
   "types_to_exclude": [
    "module",
    "function",
    "builtin_function_or_method",
    "instance",
    "_Feature"
   ],
   "window_display": false
  }
 },
 "nbformat": 4,
 "nbformat_minor": 4
}
